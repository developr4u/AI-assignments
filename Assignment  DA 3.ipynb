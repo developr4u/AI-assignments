{
 "cells": [
  {
   "cell_type": "markdown",
   "metadata": {},
   "source": [
    "# Q no 1 : Find all of the numbers from 1-1000 that are divisible by 7 by making a list using list comprehension and print it."
   ]
  },
  {
   "cell_type": "code",
   "execution_count": 18,
   "metadata": {},
   "outputs": [
    {
     "data": {
      "text/plain": [
       "[7,\n",
       " 14,\n",
       " 21,\n",
       " 28,\n",
       " 35,\n",
       " 42,\n",
       " 49,\n",
       " 56,\n",
       " 63,\n",
       " 70,\n",
       " 77,\n",
       " 84,\n",
       " 91,\n",
       " 98,\n",
       " 105,\n",
       " 112,\n",
       " 119,\n",
       " 126,\n",
       " 133,\n",
       " 140,\n",
       " 147,\n",
       " 154,\n",
       " 161,\n",
       " 168,\n",
       " 175,\n",
       " 182,\n",
       " 189,\n",
       " 196,\n",
       " 203,\n",
       " 210,\n",
       " 217,\n",
       " 224,\n",
       " 231,\n",
       " 238,\n",
       " 245,\n",
       " 252,\n",
       " 259,\n",
       " 266,\n",
       " 273,\n",
       " 280,\n",
       " 287,\n",
       " 294,\n",
       " 301,\n",
       " 308,\n",
       " 315,\n",
       " 322,\n",
       " 329,\n",
       " 336,\n",
       " 343,\n",
       " 350,\n",
       " 357,\n",
       " 364,\n",
       " 371,\n",
       " 378,\n",
       " 385,\n",
       " 392,\n",
       " 399,\n",
       " 406,\n",
       " 413,\n",
       " 420,\n",
       " 427,\n",
       " 434,\n",
       " 441,\n",
       " 448,\n",
       " 455,\n",
       " 462,\n",
       " 469,\n",
       " 476,\n",
       " 483,\n",
       " 490,\n",
       " 497,\n",
       " 504,\n",
       " 511,\n",
       " 518,\n",
       " 525,\n",
       " 532,\n",
       " 539,\n",
       " 546,\n",
       " 553,\n",
       " 560,\n",
       " 567,\n",
       " 574,\n",
       " 581,\n",
       " 588,\n",
       " 595,\n",
       " 602,\n",
       " 609,\n",
       " 616,\n",
       " 623,\n",
       " 630,\n",
       " 637,\n",
       " 644,\n",
       " 651,\n",
       " 658,\n",
       " 665,\n",
       " 672,\n",
       " 679,\n",
       " 686,\n",
       " 693,\n",
       " 700,\n",
       " 707,\n",
       " 714,\n",
       " 721,\n",
       " 728,\n",
       " 735,\n",
       " 742,\n",
       " 749,\n",
       " 756,\n",
       " 763,\n",
       " 770,\n",
       " 777,\n",
       " 784,\n",
       " 791,\n",
       " 798,\n",
       " 805,\n",
       " 812,\n",
       " 819,\n",
       " 826,\n",
       " 833,\n",
       " 840,\n",
       " 847,\n",
       " 854,\n",
       " 861,\n",
       " 868,\n",
       " 875,\n",
       " 882,\n",
       " 889,\n",
       " 896,\n",
       " 903,\n",
       " 910,\n",
       " 917,\n",
       " 924,\n",
       " 931,\n",
       " 938,\n",
       " 945,\n",
       " 952,\n",
       " 959,\n",
       " 966,\n",
       " 973,\n",
       " 980,\n",
       " 987,\n",
       " 994]"
      ]
     },
     "execution_count": 18,
     "metadata": {},
     "output_type": "execute_result"
    }
   ],
   "source": [
    "[a*1 for a in range(1,1000) if a % 7 == 0]\n",
    "\n",
    "       "
   ]
  },
  {
   "cell_type": "code",
   "execution_count": null,
   "metadata": {},
   "outputs": [],
   "source": []
  },
  {
   "cell_type": "markdown",
   "metadata": {},
   "source": [
    "# Q no 2 : Write a script that draws a triangle as below:¶"
   ]
  },
  {
   "cell_type": "raw",
   "metadata": {},
   "source": [
    "*\n",
    "**\n",
    "***\n",
    "****\n",
    "*****\n",
    "******\n",
    "*******\n",
    "********\n",
    "*********\n",
    "**********\n",
    "***********\n",
    "************"
   ]
  },
  {
   "cell_type": "code",
   "execution_count": 30,
   "metadata": {},
   "outputs": [
    {
     "name": "stdout",
     "output_type": "stream",
     "text": [
      "\n",
      "*\n",
      "**\n",
      "***\n",
      "****\n",
      "*****\n",
      "******\n",
      "*******\n",
      "********\n",
      "*********\n",
      "**********\n",
      "***********\n",
      "************\n",
      "\n"
     ]
    }
   ],
   "source": [
    "print('''\n",
    "*\n",
    "**\n",
    "***\n",
    "****\n",
    "*****\n",
    "******\n",
    "*******\n",
    "********\n",
    "*********\n",
    "**********\n",
    "***********\n",
    "************\n",
    "''')"
   ]
  },
  {
   "cell_type": "code",
   "execution_count": 40,
   "metadata": {},
   "outputs": [
    {
     "name": "stdout",
     "output_type": "stream",
     "text": [
      "*\n",
      "**\n",
      "***\n",
      "****\n",
      "*****\n",
      "******\n",
      "*******\n",
      "********\n",
      "*********\n",
      "**********\n",
      "***********\n",
      "************\n"
     ]
    }
   ],
   "source": [
    "for i in range(1,13):\n",
    "    for j in range(1,i+1):\n",
    "        print(\"*\",end=\"\")\n",
    "    print()    "
   ]
  },
  {
   "cell_type": "markdown",
   "metadata": {},
   "source": [
    "# Q no 3: Write a script that draws a geometric shape as below:"
   ]
  },
  {
   "cell_type": "raw",
   "metadata": {},
   "source": [
    "*\n",
    "**\n",
    "***\n",
    "****\n",
    "*****\n",
    "******\n",
    "*******\n",
    "******\n",
    "*****\n",
    "****\n",
    "***\n",
    "**\n",
    "*"
   ]
  },
  {
   "cell_type": "code",
   "execution_count": 10,
   "metadata": {},
   "outputs": [
    {
     "name": "stdout",
     "output_type": "stream",
     "text": [
      "*      \n",
      "**     \n",
      "***    \n",
      "****   \n",
      "*****  \n",
      "****** \n",
      "*******\n",
      "******\n",
      "***** \n",
      "****  \n",
      "***   \n",
      "**    \n",
      "*     \n"
     ]
    }
   ],
   "source": [
    "for i in range(7):\n",
    "    for j in range(7):\n",
    "        if(j<=i):\n",
    "            print(\"*\",end=\"\")\n",
    "        else:\n",
    "            print(\" \",end=\"\")\n",
    "    print()\n",
    "for a in range(6):\n",
    "    for b in range(6):\n",
    "        if(b<=5-a):\n",
    "            print(\"*\",end=\"\")\n",
    "        else:\n",
    "            print(\" \",end =\"\")\n",
    "    print()        \n",
    "            \n",
    "        \n",
    "    "
   ]
  },
  {
   "cell_type": "markdown",
   "metadata": {},
   "source": [
    "# Question # 4:"
   ]
  },
  {
   "cell_type": "raw",
   "metadata": {},
   "source": [
    "Using one of the programs you wrote in this chapter, add several lines to the end of the program that do the following:\n",
    "\n",
    "• Print the message, The first three items in the list are:. Then use a slice to print the first three items from that program’s list.\n",
    "\n",
    "• Print the message, Three items from the middle of the list are:. Use a slice to print three items from the middle of the list.\n",
    "\n",
    "• Print the message, The last three items in the list are:. Use a slice to print the last three items in the list.\n",
    "\n",
    "\n",
    "\n",
    "#Hint: you have to use for loop."
   ]
  },
  {
   "cell_type": "code",
   "execution_count": 3,
   "metadata": {},
   "outputs": [
    {
     "name": "stdout",
     "output_type": "stream",
     "text": [
      "The first three items in the list are:\n",
      "Soup\n",
      "salad\n",
      "pizza\n",
      "Three items from the middle of the list are:\n",
      "Burger\n",
      "Biryani\n",
      "Daleem\n",
      "The last three items in the list are:\n",
      "labe sheereen\n",
      "kheer\n",
      "rabri\n"
     ]
    }
   ],
   "source": [
    "items = [\"Soup\",\"salad\",\"pizza\",\"Burger\",\"Biryani\",\"Daleem\",\"labe sheereen\",\"kheer\",\"rabri\"]\n",
    "print(\"The first three items in the list are:\")\n",
    "for starter in items[:3]:\n",
    "    print(starter)\n",
    "print(\"Three items from the middle of the list are:\")\n",
    "for maincourse in items[3:6]:\n",
    "    print(maincourse)\n",
    "print(\"The last three items in the list are:\")\n",
    "for sweets in items[6:]:\n",
    "    print(sweets)"
   ]
  },
  {
   "cell_type": "code",
   "execution_count": 16,
   "metadata": {},
   "outputs": [],
   "source": []
  },
  {
   "cell_type": "markdown",
   "metadata": {},
   "source": [
    "# Question # 5:"
   ]
  },
  {
   "cell_type": "raw",
   "metadata": {},
   "source": [
    "Make a copy of the list of pizzas, and call it friend_pizzas. Then, do the following:\n",
    "\n",
    "• Add a new pizza to the original list.\n",
    "\n",
    "• Add a different pizza to the list friend_pizzas.\n",
    "\n",
    "•Prove that you have two separate lists. Print the message, My favorite pizzas are:, and then use a for loop to print the first list. Print the message, My friend’s favorite pizzas are:, and then use a for loop to print the second list. "
   ]
  },
  {
   "cell_type": "code",
   "execution_count": 9,
   "metadata": {},
   "outputs": [
    {
     "name": "stdout",
     "output_type": "stream",
     "text": [
      "My Favourite Pizzas are:\n",
      "BBQ\n",
      "Chicken Tikka\n",
      "Fajita\n",
      "Crust\n",
      "Cheeze\n",
      "super\n",
      "spicy\n",
      "My Friend's Favourite Pizzas are:\n",
      "BBQ\n",
      "Chicken Tikka\n",
      "Fajita\n",
      "Crust\n",
      "Cheeze\n",
      "super\n",
      "spicy\n"
     ]
    }
   ],
   "source": [
    "pizzas = [\"BBQ\",\"Chicken Tikka\",\"Fajita\",\"Crust\",\"Cheeze\"]\n",
    "friend_pizzas = pizzas\n",
    "pizzas.append(\"super\")\n",
    "friend_pizzas.append(\"spicy\")\n",
    "print(\"My Favourite Pizzas are:\")\n",
    "for pizza in pizzas:\n",
    "    print(pizza)\n",
    "print(\"My Friend's Favourite Pizzas are:\")\n",
    "for pizzu in friend_pizzas:\n",
    "    print(pizzu)"
   ]
  },
  {
   "cell_type": "code",
   "execution_count": 10,
   "metadata": {},
   "outputs": [
    {
     "data": {
      "text/plain": [
       "['BBQ', 'Chicken Tikka', 'Fajita', 'Crust', 'Cheeze', 'super', 'spicy']"
      ]
     },
     "execution_count": 10,
     "metadata": {},
     "output_type": "execute_result"
    }
   ],
   "source": [
    "pizzas\n",
    "        "
   ]
  },
  {
   "cell_type": "code",
   "execution_count": 11,
   "metadata": {},
   "outputs": [
    {
     "data": {
      "text/plain": [
       "['BBQ', 'Chicken Tikka', 'Fajita', 'Crust', 'Cheeze', 'super', 'spicy']"
      ]
     },
     "execution_count": 11,
     "metadata": {},
     "output_type": "execute_result"
    }
   ],
   "source": [
    "friend_pizzas"
   ]
  },
  {
   "cell_type": "markdown",
   "metadata": {},
   "source": [
    "# Question # 6:"
   ]
  },
  {
   "cell_type": "raw",
   "metadata": {},
   "source": [
    "Do the following to create a program that simulates\n",
    "how websites ensure that everyone has a unique username.\n",
    "\n",
    "•\t Make a list of five or more usernames called current_users.\n",
    "\n",
    "•\t Make another list of five usernames called new_users. Make sure one or\n",
    "two of the new usernames are also in the current_users list.\n",
    "\n",
    "•\t Loop through the new_users list to see if each new username has already\n",
    "been used. If it has, print a message that the person will need to enter a\n",
    "new username. If a username has not been used, print a message saying\n",
    "that the username is available.\n",
    "\n",
    "•\t Make sure your comparison is case insensitive. If 'John' has been used,\n",
    "'JOHN' should not be accepted."
   ]
  },
  {
   "cell_type": "code",
   "execution_count": 42,
   "metadata": {},
   "outputs": [
    {
     "name": "stdout",
     "output_type": "stream",
     "text": [
      "aslam avaialable\n",
      "mujtaba avaialable\n",
      "faisal is not available\n",
      "faraz is not available\n",
      "taimoor avaialable\n"
     ]
    }
   ],
   "source": [
    "current_users = [\"faisal\",\"faizan\",\"farhan\",\"faraz\",\"Ahmed\",\"Muhammad\"]\n",
    "new_user = [\"Aslam\",\"Mujtaba\",\"Faisal\",\"faraz\",\"taimoor\"]\n",
    "lowercase = [user.lower() for user in new_user]\n",
    "for user in lowercase:\n",
    "    if user in current_users:\n",
    "        print(user + \" \"+\"is not available\")\n",
    "    else:\n",
    "        print(user + \" \" + \"avaialable\")\n",
    "\n",
    "\n",
    "    "
   ]
  },
  {
   "cell_type": "code",
   "execution_count": 26,
   "metadata": {},
   "outputs": [
    {
     "name": "stdout",
     "output_type": "stream",
     "text": [
      "available\n",
      "not available\n",
      "available\n",
      "available\n",
      "available\n"
     ]
    }
   ],
   "source": [
    "old_users = [\"moin\",\"saqib\",\"fahad\",\"babar\",\"asif\"]\n",
    "new_user = [\"saqib\"]\n",
    "for user in old_users:\n",
    "    for name in new_user:\n",
    "        if name == user:\n",
    "            print(\"not available\")\n",
    "        else:\n",
    "            print(\"available\")"
   ]
  },
  {
   "cell_type": "code",
   "execution_count": null,
   "metadata": {},
   "outputs": [],
   "source": []
  },
  {
   "cell_type": "code",
   "execution_count": null,
   "metadata": {},
   "outputs": [],
   "source": []
  }
 ],
 "metadata": {
  "kernelspec": {
   "display_name": "Python 3",
   "language": "python",
   "name": "python3"
  },
  "language_info": {
   "codemirror_mode": {
    "name": "ipython",
    "version": 3
   },
   "file_extension": ".py",
   "mimetype": "text/x-python",
   "name": "python",
   "nbconvert_exporter": "python",
   "pygments_lexer": "ipython3",
   "version": "3.7.1"
  }
 },
 "nbformat": 4,
 "nbformat_minor": 2
}
